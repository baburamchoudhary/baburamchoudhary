{
  "nbformat": 4,
  "nbformat_minor": 0,
  "metadata": {
    "colab": {
      "name": "Pandas_fileHandling.ipynb",
      "provenance": [],
      "collapsed_sections": [],
      "include_colab_link": true
    },
    "kernelspec": {
      "name": "python3",
      "display_name": "Python 3"
    },
    "language_info": {
      "name": "python"
    }
  },
  "cells": [
    {
      "cell_type": "markdown",
      "metadata": {
        "id": "view-in-github",
        "colab_type": "text"
      },
      "source": [
        "<a href=\"https://colab.research.google.com/github/baburamchoudhary/baburamchoudhary/blob/main/Pandas_fileHandling.ipynb\" target=\"_parent\"><img src=\"https://colab.research.google.com/assets/colab-badge.svg\" alt=\"Open In Colab\"/></a>"
      ]
    },
    {
      "cell_type": "code",
      "execution_count": null,
      "metadata": {
        "colab": {
          "base_uri": "https://localhost:8080/"
        },
        "id": "XQJF0aYRukbv",
        "outputId": "2882409b-e312-4636-b4b1-53978f517737"
      },
      "outputs": [
        {
          "output_type": "stream",
          "name": "stdout",
          "text": [
            "1.3.5\n"
          ]
        }
      ],
      "source": [
        "import pandas as pd\n",
        "\n",
        "\n",
        "print(pd.__version__)\n",
        "\n",
        "#df = pd.read_csv('data.csv')\n",
        "\n",
        "#print(df.to_string()) "
      ]
    },
    {
      "cell_type": "code",
      "source": [
        "## Create your own dataset\n",
        "import pandas\n",
        "# it imports data in tabular form (dataframe) (read and wite)\n",
        "\n",
        "#Dictionary DS is similar to tabular structure\n",
        "mydataset = {\n",
        "  'cars': [\"BMW\", \"Volvo\", \"Ford\"], \n",
        "  'passings': [3, 7, 2]\n",
        "}\n",
        "\n",
        "data1 = pandas.DataFrame(mydataset)\n",
        "\n",
        "# comma separated value\n",
        "#print(data1)\n",
        "#print(data1.describe())"
      ],
      "metadata": {
        "colab": {
          "base_uri": "https://localhost:8080/"
        },
        "id": "DSf1UMJiu5rr",
        "outputId": "34858137-3ce7-48da-e5e5-82eb40fb38a5"
      },
      "execution_count": null,
      "outputs": [
        {
          "output_type": "stream",
          "name": "stdout",
          "text": [
            "    cars  passings\n",
            "0    BMW         3\n",
            "1  Volvo         7\n",
            "2   Ford         2\n",
            "       passings\n",
            "count  3.000000\n",
            "mean   4.000000\n",
            "std    2.645751\n",
            "min    2.000000\n",
            "25%    2.500000\n",
            "50%    3.000000\n",
            "75%    5.000000\n",
            "max    7.000000\n"
          ]
        }
      ]
    },
    {
      "cell_type": "code",
      "source": [
        "data1.to_csv(\"temp1.csv\", sep=\"\\t\", index=False)\n"
      ],
      "metadata": {
        "id": "y6iVDfJ2vVWD"
      },
      "execution_count": null,
      "outputs": []
    },
    {
      "cell_type": "code",
      "source": [
        "import pandas as pd \n",
        "\n",
        "a = [1, 7, 2]\n",
        "\n",
        "myvar = pd.Series(a)\n",
        "\n",
        "print(myvar)\n",
        "print(myvar[0])"
      ],
      "metadata": {
        "id": "AMP1z1B6vYxz"
      },
      "execution_count": null,
      "outputs": []
    },
    {
      "cell_type": "code",
      "source": [
        ""
      ],
      "metadata": {
        "id": "l-h6GGsdn0Kj"
      },
      "execution_count": null,
      "outputs": []
    },
    {
      "cell_type": "code",
      "source": [
        ""
      ],
      "metadata": {
        "id": "Uoxgjh1kn0OP"
      },
      "execution_count": null,
      "outputs": []
    },
    {
      "cell_type": "code",
      "source": [
        "import pandas as pd \n",
        "\n",
        "a = [1, 7, 2]\n",
        "\n",
        "myvar = pd.Series(a, index = [\"x\", \"y\", \"z\"])\n",
        "\n",
        "print(myvar)"
      ],
      "metadata": {
        "id": "ahLd3XZSveio"
      },
      "execution_count": null,
      "outputs": []
    },
    {
      "cell_type": "code",
      "source": [
        "import pandas as pd \n",
        "\n",
        "calories = {\"day1\": 420, \"day2\": 380, \"day3\": 390}\n",
        "\n",
        "myvar = pd.Series(calories, index = [\"day1\", \"day2\"])\n",
        "\n",
        "print(myvar)"
      ],
      "metadata": {
        "id": "IhHuI34mvqIs"
      },
      "execution_count": null,
      "outputs": []
    },
    {
      "cell_type": "code",
      "source": [
        "#!pip install pandas"
      ],
      "metadata": {
        "id": "KFCPIp48xErc"
      },
      "execution_count": null,
      "outputs": []
    },
    {
      "cell_type": "code",
      "source": [
        "import pandas as pd"
      ],
      "metadata": {
        "id": "V1KrK0DzxFCv"
      },
      "execution_count": null,
      "outputs": []
    },
    {
      "cell_type": "code",
      "source": [
        "print(pd.__version__)"
      ],
      "metadata": {
        "colab": {
          "base_uri": "https://localhost:8080/"
        },
        "id": "SX1NFFOSxQep",
        "outputId": "feed87e2-3e2e-4722-d602-86aae5a944d2"
      },
      "execution_count": null,
      "outputs": [
        {
          "output_type": "stream",
          "name": "stdout",
          "text": [
            "1.3.5\n"
          ]
        }
      ]
    },
    {
      "cell_type": "code",
      "source": [
        "!ls"
      ],
      "metadata": {
        "colab": {
          "base_uri": "https://localhost:8080/"
        },
        "id": "3i7fQiOWxeco",
        "outputId": "c348272e-4c83-4e16-921b-33fa8120765d"
      },
      "execution_count": null,
      "outputs": [
        {
          "output_type": "stream",
          "name": "stdout",
          "text": [
            "drive  panda_test.txt  sample_data\n"
          ]
        }
      ]
    },
    {
      "cell_type": "code",
      "source": [
        "#dataframe\n",
        "data = pd.read_csv(\"/content/panda_test.txt\")"
      ],
      "metadata": {
        "id": "BeF8SNN9yvVB"
      },
      "execution_count": null,
      "outputs": []
    },
    {
      "cell_type": "code",
      "source": [
        "print(data)"
      ],
      "metadata": {
        "colab": {
          "base_uri": "https://localhost:8080/"
        },
        "id": "8H_cvnYMzMBH",
        "outputId": "66e6572f-87de-460b-e71a-17bf712c4bcc"
      },
      "execution_count": null,
      "outputs": [
        {
          "output_type": "stream",
          "name": "stdout",
          "text": [
            "      Col1         Col2   Col3\n",
            "row1     1            2      3\n",
            "row2     2            4      5\n",
            "row3     5            6      3\n"
          ]
        }
      ]
    },
    {
      "cell_type": "code",
      "source": [
        "print(data.describe())"
      ],
      "metadata": {
        "colab": {
          "base_uri": "https://localhost:8080/"
        },
        "id": "oB__UrrVzRdm",
        "outputId": "d3a2d039-8fce-458b-b688-7642f18aed64"
      },
      "execution_count": null,
      "outputs": [
        {
          "output_type": "stream",
          "name": "stdout",
          "text": [
            "           Col1         Col2      Col3\n",
            "count  3.000000          3.0  3.000000\n",
            "mean   2.666667          4.0  3.666667\n",
            "std    2.081666          2.0  1.154701\n",
            "min    1.000000          2.0  3.000000\n",
            "25%    1.500000          3.0  3.000000\n",
            "50%    2.000000          4.0  3.000000\n",
            "75%    3.500000          5.0  4.000000\n",
            "max    5.000000          6.0  5.000000\n"
          ]
        }
      ]
    },
    {
      "cell_type": "code",
      "source": [
        "data.info()"
      ],
      "metadata": {
        "colab": {
          "base_uri": "https://localhost:8080/"
        },
        "id": "Pj0z-qRB0846",
        "outputId": "e72c36a4-5c04-4fae-a09e-ba5523442041"
      },
      "execution_count": null,
      "outputs": [
        {
          "output_type": "stream",
          "name": "stdout",
          "text": [
            "<class 'pandas.core.frame.DataFrame'>\n",
            "Index: 3 entries, row1 to row3\n",
            "Data columns (total 3 columns):\n",
            " #   Column       Non-Null Count  Dtype\n",
            "---  ------       --------------  -----\n",
            " 0   Col1         3 non-null      int64\n",
            " 1          Col2  3 non-null      int64\n",
            " 2    Col3        3 non-null      int64\n",
            "dtypes: int64(3)\n",
            "memory usage: 96.0+ bytes\n"
          ]
        }
      ]
    },
    {
      "cell_type": "code",
      "source": [
        "#the data is in the form of nd array\n",
        "print(data.loc[['row1', 'row2', 'row3']])"
      ],
      "metadata": {
        "colab": {
          "base_uri": "https://localhost:8080/"
        },
        "id": "h-9kClvO1_Wz",
        "outputId": "2a4e2fa6-8535-4d69-cb68-15f742599914"
      },
      "execution_count": null,
      "outputs": [
        {
          "output_type": "stream",
          "name": "stdout",
          "text": [
            "      Col1         Col2   Col3\n",
            "row1     1            2      3\n",
            "row2     2            4      5\n",
            "row3     5            6      3\n"
          ]
        }
      ]
    },
    {
      "cell_type": "code",
      "source": [
        "print(data.head(2)) # display top 2 rows"
      ],
      "metadata": {
        "colab": {
          "base_uri": "https://localhost:8080/"
        },
        "id": "GUZI4ujR23Lt",
        "outputId": "b5e234db-15e2-44e4-b70a-c433f3a93282"
      },
      "execution_count": null,
      "outputs": [
        {
          "output_type": "stream",
          "name": "stdout",
          "text": [
            "      Col1         Col2   Col3\n",
            "row1     1            2      3\n",
            "row2     2            4      5\n"
          ]
        }
      ]
    },
    {
      "cell_type": "code",
      "source": [
        "print(data.columns)"
      ],
      "metadata": {
        "colab": {
          "base_uri": "https://localhost:8080/"
        },
        "id": "WL8LNJY54el7",
        "outputId": "fc65ae28-578d-4373-e36d-0b0590d39b13"
      },
      "execution_count": null,
      "outputs": [
        {
          "output_type": "stream",
          "name": "stdout",
          "text": [
            "Index(['Col1', '       Col2', ' Col3'], dtype='object')\n"
          ]
        }
      ]
    },
    {
      "cell_type": "code",
      "source": [
        "print(data.loc[:,['Col1','       Col2']])"
      ],
      "metadata": {
        "colab": {
          "base_uri": "https://localhost:8080/"
        },
        "id": "LqoxMySw4pPl",
        "outputId": "c727405e-44f1-4ce0-cea2-ec27a7befb6b"
      },
      "execution_count": null,
      "outputs": [
        {
          "output_type": "stream",
          "name": "stdout",
          "text": [
            "      Col1         Col2\n",
            "row1     1            2\n",
            "row2     2            4\n",
            "row3     5            6\n"
          ]
        }
      ]
    },
    {
      "cell_type": "code",
      "source": [
        "import numpy as np\n",
        "x = data.loc[:,['Col1','       Col2']]\n",
        "print(x)\n",
        "print(x.ndim)\n",
        "print(type(x))\n",
        "#x =np.array(x).reshape(3,2)\n",
        "print(x.shape)"
      ],
      "metadata": {
        "colab": {
          "base_uri": "https://localhost:8080/"
        },
        "id": "PT8ukJ645s1c",
        "outputId": "452dbf4b-d2f6-4164-c232-cd9502b9422e"
      },
      "execution_count": null,
      "outputs": [
        {
          "output_type": "stream",
          "name": "stdout",
          "text": [
            "      Col1         Col2\n",
            "row1     1            2\n",
            "row2     2            4\n",
            "row3     5            6\n",
            "2\n",
            "<class 'pandas.core.frame.DataFrame'>\n",
            "(3, 2)\n"
          ]
        }
      ]
    },
    {
      "cell_type": "code",
      "source": [
        "import numpy as np\n",
        "print(np.sum(x))"
      ],
      "metadata": {
        "colab": {
          "base_uri": "https://localhost:8080/"
        },
        "id": "odsahfSh76V5",
        "outputId": "1c29480a-2944-4c33-b7da-af3dcec317e6"
      },
      "execution_count": null,
      "outputs": [
        {
          "output_type": "stream",
          "name": "stdout",
          "text": [
            "8\n"
          ]
        }
      ]
    },
    {
      "cell_type": "code",
      "source": [
        "import numpy as np\n",
        "# iloc is used for integer indexing\n",
        "# loc is used for text/key (actual) based access\n",
        "x = data.iloc[:,[0,1]]\n",
        "print(x)\n",
        "print(x.ndim)\n",
        "print(type(x))\n",
        "#x =np.array(x).reshape(3,2)\n",
        "print(x.shape)"
      ],
      "metadata": {
        "colab": {
          "base_uri": "https://localhost:8080/"
        },
        "id": "e4pHLvdCt7yx",
        "outputId": "46f9e7e2-cc1e-4739-b407-acba8b4b28c1"
      },
      "execution_count": null,
      "outputs": [
        {
          "output_type": "stream",
          "name": "stdout",
          "text": [
            "      Col1         Col2\n",
            "row1     1            2\n",
            "row2     2            4\n",
            "row3     5            6\n",
            "2\n",
            "<class 'pandas.core.frame.DataFrame'>\n",
            "(3, 2)\n"
          ]
        }
      ]
    },
    {
      "cell_type": "code",
      "source": [
        "import pandas as pd\n",
        "cities = pd.DataFrame([['Sacramento', 'California'], ['Miami', 'Florida']], columns=['City', 'State'])\n",
        "cities.to_csv('cities.csv')\n"
      ],
      "metadata": {
        "id": "vpA1SXGD8Wkb"
      },
      "execution_count": null,
      "outputs": []
    },
    {
      "cell_type": "code",
      "source": [
        "df = pd.read_csv('cities.csv')\n",
        "print(df)"
      ],
      "metadata": {
        "id": "rAcsZva8q4CU"
      },
      "execution_count": null,
      "outputs": []
    },
    {
      "cell_type": "code",
      "source": [
        "import pandas as pd\n",
        "cities = pd.DataFrame([['Sacramento', 'California'], ['Miami', 'Florida']], columns=['City', 'State'])\n",
        "cities.to_csv('cities.csv', index=False)\n"
      ],
      "metadata": {
        "id": "S09ojatWq4Fr"
      },
      "execution_count": null,
      "outputs": []
    },
    {
      "cell_type": "code",
      "source": [
        "df = pd.read_csv('cities.csv')\n",
        "print(df)"
      ],
      "metadata": {
        "id": "EzjgQoMRrA-x"
      },
      "execution_count": null,
      "outputs": []
    },
    {
      "cell_type": "code",
      "source": [
        "import pandas as pd\n",
        "cities = pd.DataFrame([['Sacramento', 'California'], ['Miami', 'Florida']], columns=['City', 'State'])\n",
        "cities.to_csv('cities.csv', index=False, sep=';')"
      ],
      "metadata": {
        "id": "MC5MT0MHrBBh"
      },
      "execution_count": null,
      "outputs": []
    },
    {
      "cell_type": "code",
      "source": [
        ""
      ],
      "metadata": {
        "id": "RboyO5CarBE-"
      },
      "execution_count": null,
      "outputs": []
    },
    {
      "cell_type": "code",
      "source": [
        ""
      ],
      "metadata": {
        "id": "H6RqPo_Uq4I7"
      },
      "execution_count": null,
      "outputs": []
    },
    {
      "cell_type": "code",
      "source": [
        "print( 10/ 2 )"
      ],
      "metadata": {
        "colab": {
          "base_uri": "https://localhost:8080/"
        },
        "id": "yEBr5MBun1gT",
        "outputId": "7ee9b983-fc41-4957-8f77-b66044541c46"
      },
      "execution_count": null,
      "outputs": [
        {
          "output_type": "stream",
          "name": "stdout",
          "text": [
            "5.0\n"
          ]
        }
      ]
    },
    {
      "cell_type": "code",
      "source": [
        "a = 10\n",
        "b = 0\n",
        "print( a / b)\n",
        "print(\" Thank you\")\n",
        "print(\"hi\")"
      ],
      "metadata": {
        "colab": {
          "base_uri": "https://localhost:8080/",
          "height": 235
        },
        "id": "vKiNYjQun1j4",
        "outputId": "638eabdf-3856-4a9e-bc1c-d4f78831fbcb"
      },
      "execution_count": null,
      "outputs": [
        {
          "output_type": "error",
          "ename": "ZeroDivisionError",
          "evalue": "ignored",
          "traceback": [
            "\u001b[0;31m---------------------------------------------------------------------------\u001b[0m",
            "\u001b[0;31mZeroDivisionError\u001b[0m                         Traceback (most recent call last)",
            "\u001b[0;32m<ipython-input-23-9e6de1b145da>\u001b[0m in \u001b[0;36m<module>\u001b[0;34m()\u001b[0m\n\u001b[1;32m      1\u001b[0m \u001b[0ma\u001b[0m \u001b[0;34m=\u001b[0m \u001b[0;36m10\u001b[0m\u001b[0;34m\u001b[0m\u001b[0;34m\u001b[0m\u001b[0m\n\u001b[1;32m      2\u001b[0m \u001b[0mb\u001b[0m \u001b[0;34m=\u001b[0m \u001b[0;36m0\u001b[0m\u001b[0;34m\u001b[0m\u001b[0;34m\u001b[0m\u001b[0m\n\u001b[0;32m----> 3\u001b[0;31m \u001b[0mprint\u001b[0m\u001b[0;34m(\u001b[0m \u001b[0ma\u001b[0m \u001b[0;34m/\u001b[0m \u001b[0mb\u001b[0m\u001b[0;34m)\u001b[0m\u001b[0;34m\u001b[0m\u001b[0;34m\u001b[0m\u001b[0m\n\u001b[0m\u001b[1;32m      4\u001b[0m \u001b[0mprint\u001b[0m\u001b[0;34m(\u001b[0m\u001b[0;34m\" Thank you\"\u001b[0m\u001b[0;34m)\u001b[0m\u001b[0;34m\u001b[0m\u001b[0;34m\u001b[0m\u001b[0m\n\u001b[1;32m      5\u001b[0m \u001b[0mprint\u001b[0m\u001b[0;34m(\u001b[0m\u001b[0;34m\"hi\"\u001b[0m\u001b[0;34m)\u001b[0m\u001b[0;34m\u001b[0m\u001b[0;34m\u001b[0m\u001b[0m\n",
            "\u001b[0;31mZeroDivisionError\u001b[0m: division by zero"
          ]
        }
      ]
    },
    {
      "cell_type": "code",
      "source": [
        "print(str2)"
      ],
      "metadata": {
        "colab": {
          "base_uri": "https://localhost:8080/",
          "height": 165
        },
        "id": "CKXzygOUHagL",
        "outputId": "4d160449-1691-4774-b58d-9364dae8e4a5"
      },
      "execution_count": null,
      "outputs": [
        {
          "output_type": "error",
          "ename": "NameError",
          "evalue": "ignored",
          "traceback": [
            "\u001b[0;31m---------------------------------------------------------------------------\u001b[0m",
            "\u001b[0;31mNameError\u001b[0m                                 Traceback (most recent call last)",
            "\u001b[0;32m<ipython-input-24-20cf9a2cea1a>\u001b[0m in \u001b[0;36m<module>\u001b[0;34m()\u001b[0m\n\u001b[0;32m----> 1\u001b[0;31m \u001b[0mprint\u001b[0m\u001b[0;34m(\u001b[0m\u001b[0mstr2\u001b[0m\u001b[0;34m)\u001b[0m\u001b[0;34m\u001b[0m\u001b[0;34m\u001b[0m\u001b[0m\n\u001b[0m",
            "\u001b[0;31mNameError\u001b[0m: name 'str2' is not defined"
          ]
        }
      ]
    },
    {
      "cell_type": "code",
      "source": [
        "import sys\n",
        "\n",
        "a = 10\n",
        "b = 4\n",
        "#str2 =\"hi\"\n",
        "str3 = \"Mohan\"\n",
        "\n",
        "\n",
        "try:\n",
        "  print( a / b)\n",
        "  print(str3)\n",
        "  print(str3+10+str3)\n",
        "except NameError as ne: # aliasing\n",
        "  print(\"The error ocuured\",sys.exc_info()[0])\n",
        "except ZeroDivisionError as zde:\n",
        "  print(\"The error ocuured\", zde)\n",
        "except:\n",
        "  print(\"The general error\", sys.exc_info()[0])\n",
        "else:\n",
        "  print(\"No error\")\n",
        "finally:\n",
        "  print(\"Exception has been cured\")\n",
        "print(\" Thank you\")\n",
        "print(\"hi\")\n",
        "\n",
        "try:\n",
        "  pass\n",
        "except:\n",
        "  pass\n",
        "else:\n",
        "  pass\n",
        "finally:\n",
        "  pass"
      ],
      "metadata": {
        "colab": {
          "base_uri": "https://localhost:8080/"
        },
        "id": "btAzMAQVGcbC",
        "outputId": "4cc37919-484e-41ab-9af1-2827e37c4b9c"
      },
      "execution_count": null,
      "outputs": [
        {
          "output_type": "stream",
          "name": "stdout",
          "text": [
            "2.5\n",
            "Mohan\n",
            "The general error <class 'TypeError'>\n",
            "Exception has been cured\n",
            " Thank you\n",
            "hi\n"
          ]
        }
      ]
    },
    {
      "cell_type": "code",
      "source": [
        "import sys\n",
        "a = 0\n",
        "try:\n",
        "  print(\"The entry is\", a)\n",
        "  r = 1/a\n",
        "except:\n",
        "  print(\"SemanticError\", sys.exc_info()[0], \"occurred.\")\n",
        "else:\n",
        "  print(\"Thank you. Code executed\")\n",
        "finally:\n",
        "  print(\"Finally done\")"
      ],
      "metadata": {
        "colab": {
          "base_uri": "https://localhost:8080/"
        },
        "id": "FfZOXNc-91u4",
        "outputId": "4bd75f38-77fe-4f63-c2e5-68b3cf5c7e02"
      },
      "execution_count": null,
      "outputs": [
        {
          "output_type": "stream",
          "name": "stdout",
          "text": [
            "The entry is 0\n",
            "SemanticError <class 'ZeroDivisionError'> occurred.\n",
            "Finally done\n"
          ]
        }
      ]
    },
    {
      "cell_type": "code",
      "source": [
        "# program to print the reciprocal of even numbers\n",
        "num = int(input(\"Enter a number: \"))\n",
        "try:    \n",
        "    assert num % 2 == 0\n",
        "except:\n",
        "    print(\"Not an even number!\")\n",
        "else:\n",
        "    reciprocal = 1/num\n",
        "    print(reciprocal)"
      ],
      "metadata": {
        "colab": {
          "base_uri": "https://localhost:8080/"
        },
        "id": "GpeIOmMp917O",
        "outputId": "4bc5e0b7-755c-42e2-9097-bebfda3f3562"
      },
      "execution_count": null,
      "outputs": [
        {
          "output_type": "stream",
          "name": "stdout",
          "text": [
            "Enter a number: 1\n",
            "Not an even number!\n"
          ]
        }
      ]
    },
    {
      "cell_type": "code",
      "source": [
        ""
      ],
      "metadata": {
        "id": "n-wLQlNQ92D-"
      },
      "execution_count": null,
      "outputs": []
    },
    {
      "cell_type": "code",
      "source": [
        "import math\n",
        "import numpy as np\n",
        "\n",
        "\n",
        "str1 = \"thanks\"\n",
        "num = 10\n",
        "a = 5\n",
        "\n",
        "try:\n",
        "   # do something\n",
        "   print(\" the value is\", a)\n",
        "   print(str1 + num + str1)\n",
        "   print(math.sqrt(-1)\n",
        "     \n",
        "except ValueError:\n",
        "   # handle ValueError exception\n",
        "   print(\"This\", sys.exc_info()[0], \"occurred\")\n",
        "\n",
        "except (TypeError, ZeroDivisionError) as e:\n",
        "   # handle multiple exceptions\n",
        "   # TypeError and ZeroDivisionError\n",
        "   print(\"Ohh\", e.__class__, \"occurred.\")\n",
        "\n",
        "except:\n",
        "   # handle all other exceptions\n",
        "   pass"
      ],
      "metadata": {
        "colab": {
          "base_uri": "https://localhost:8080/",
          "height": 131
        },
        "id": "BQtrsPuO_8pY",
        "outputId": "77d3667d-4a0c-48e7-9665-060a3ffff5a5"
      },
      "execution_count": null,
      "outputs": [
        {
          "output_type": "error",
          "ename": "SyntaxError",
          "evalue": "ignored",
          "traceback": [
            "\u001b[0;36m  File \u001b[0;32m\"<ipython-input-12-8f13386ae578>\"\u001b[0;36m, line \u001b[0;32m15\u001b[0m\n\u001b[0;31m    except ValueError:\u001b[0m\n\u001b[0m         ^\u001b[0m\n\u001b[0;31mSyntaxError\u001b[0m\u001b[0;31m:\u001b[0m invalid syntax\n"
          ]
        }
      ]
    },
    {
      "cell_type": "code",
      "source": [
        ""
      ],
      "metadata": {
        "id": "85BXzbuC_8s2"
      },
      "execution_count": null,
      "outputs": []
    },
    {
      "cell_type": "code",
      "source": [
        "a = 10\n",
        "b = 2\n",
        "\n",
        "try:\n",
        "    c = a / b\n",
        "    print(c)\n",
        "except ZeroDivisionError as error:\n",
        "    print(error)\n",
        "finally:\n",
        "    print('Finishing up.')"
      ],
      "metadata": {
        "id": "a6lFbpT9_8xR"
      },
      "execution_count": null,
      "outputs": []
    },
    {
      "cell_type": "code",
      "source": [
        "x = 10\n",
        "if x > 5:\n",
        "    raise Exception('x should not exceed 5. The value of x was: {}'.format(x))"
      ],
      "metadata": {
        "id": "vtObC2HYopbN",
        "colab": {
          "base_uri": "https://localhost:8080/",
          "height": 200
        },
        "outputId": "f4d271ff-c592-4b75-f110-760018f8cbf9"
      },
      "execution_count": null,
      "outputs": [
        {
          "output_type": "error",
          "ename": "Exception",
          "evalue": "ignored",
          "traceback": [
            "\u001b[0;31m---------------------------------------------------------------------------\u001b[0m",
            "\u001b[0;31mException\u001b[0m                                 Traceback (most recent call last)",
            "\u001b[0;32m<ipython-input-45-3dcc1a597936>\u001b[0m in \u001b[0;36m<module>\u001b[0;34m()\u001b[0m\n\u001b[1;32m      1\u001b[0m \u001b[0mx\u001b[0m \u001b[0;34m=\u001b[0m \u001b[0;36m10\u001b[0m\u001b[0;34m\u001b[0m\u001b[0;34m\u001b[0m\u001b[0m\n\u001b[1;32m      2\u001b[0m \u001b[0;32mif\u001b[0m \u001b[0mx\u001b[0m \u001b[0;34m>\u001b[0m \u001b[0;36m5\u001b[0m\u001b[0;34m:\u001b[0m\u001b[0;34m\u001b[0m\u001b[0;34m\u001b[0m\u001b[0m\n\u001b[0;32m----> 3\u001b[0;31m     \u001b[0;32mraise\u001b[0m \u001b[0mException\u001b[0m\u001b[0;34m(\u001b[0m\u001b[0;34m'x should not exceed 5. The value of x was: {}'\u001b[0m\u001b[0;34m.\u001b[0m\u001b[0mformat\u001b[0m\u001b[0;34m(\u001b[0m\u001b[0mx\u001b[0m\u001b[0;34m)\u001b[0m\u001b[0;34m)\u001b[0m\u001b[0;34m\u001b[0m\u001b[0;34m\u001b[0m\u001b[0m\n\u001b[0m",
            "\u001b[0;31mException\u001b[0m: x should not exceed 5. The value of x was: 10"
          ]
        }
      ]
    },
    {
      "cell_type": "code",
      "source": [
        "x = 4\n",
        "try:\n",
        "  if x > 5:\n",
        "    raise Exception('x should not exceed 5. The value of x was: {}'.format(x))\n",
        "except:\n",
        "  print(\"Manual exception occured\")\n",
        "else:\n",
        "  print(\"exception is not caught\") "
      ],
      "metadata": {
        "colab": {
          "base_uri": "https://localhost:8080/"
        },
        "id": "-B7-KC_vLyD9",
        "outputId": "027bdd5d-320c-4d28-ca72-fe8f113cb3a4"
      },
      "execution_count": null,
      "outputs": [
        {
          "output_type": "stream",
          "name": "stdout",
          "text": [
            "exception is not caught\n"
          ]
        }
      ]
    },
    {
      "cell_type": "code",
      "source": [
        "x = 6\n",
        "try:\n",
        "  assert x <= 5\n",
        "#   raise Exception('x should not exceed 5. The value of x was: {}'.format(x))\n",
        "except:\n",
        "  print(\"Manual exception occured\")\n",
        "else:\n",
        "  print(\"exception is not caught\")"
      ],
      "metadata": {
        "colab": {
          "base_uri": "https://localhost:8080/"
        },
        "id": "hU1CqIrgMhw3",
        "outputId": "190ecb18-3ad4-42f1-cd63-2ec35433629a"
      },
      "execution_count": null,
      "outputs": [
        {
          "output_type": "stream",
          "name": "stdout",
          "text": [
            "Manual exception occured\n"
          ]
        }
      ]
    },
    {
      "cell_type": "code",
      "source": [
        "import sys\n",
        "assert ('linux' in sys.platform), \"This code runs on Linux only.\""
      ],
      "metadata": {
        "id": "iu8LuzA4o3d-"
      },
      "execution_count": null,
      "outputs": []
    },
    {
      "cell_type": "code",
      "source": [
        "# import module sys to get the type of exception\n",
        "import sys\n",
        "\n",
        "randomList = ['a', 0, 2]\n",
        "\n",
        "for entry in randomList:\n",
        "    try:\n",
        "        print(\"The entry is\", entry)\n",
        "        r = 1/int(entry)\n",
        "        break\n",
        "    except:\n",
        "        print(\"Ohh\", sys.exc_info()[0], \"occurred.\")\n",
        "        print(\"Next entry.\")\n",
        "        print()\n",
        "print(\"The reciprocal of\", entry, \"is\", r)"
      ],
      "metadata": {
        "id": "XhDDk1TopKIU"
      },
      "execution_count": null,
      "outputs": []
    },
    {
      "cell_type": "code",
      "source": [
        "# import module sys to get the type of exception\n",
        "import sys\n",
        "\n",
        "randomList = ['a', 0, 2]\n",
        "\n",
        "for entry in randomList:\n",
        "    try:\n",
        "        print(\"The entry is\", entry)\n",
        "        r = 1/int(entry)\n",
        "        break\n",
        "    except Exception as e:\n",
        "        print(\"Ohh!\", e.__class__, \"occurred.\")\n",
        "        print(\"Next entry.\")\n",
        "        print()\n",
        "print(\"The reciprocal of\", entry, \"is\", r)"
      ],
      "metadata": {
        "id": "KA_ZA7HlpKPz"
      },
      "execution_count": null,
      "outputs": []
    },
    {
      "cell_type": "code",
      "source": [
        "\n",
        "import math\n",
        "\n",
        "try:\n",
        "    x = int(input('Please enter a positive number:\\n'))\n",
        "    try:\n",
        "        print(f'Square Root of {x} is {math.sqrt(x)}')\n",
        "    except ValueError as ve:\n",
        "        print(f'You entered {x}, which is not a positive number.')\n",
        "except ValueError as ve:\n",
        "    print('You are supposed to enter positive number.')\n"
      ],
      "metadata": {
        "id": "FbW52joPCnPy"
      },
      "execution_count": null,
      "outputs": []
    },
    {
      "cell_type": "code",
      "source": [
        "import math\n",
        "\n",
        "\n",
        "def num_stats(x):\n",
        "    if x is not int:\n",
        "        raise TypeError('Work with Numbers Only')\n",
        "    if x < 0:\n",
        "        raise ValueError('Work with Positive Numbers Only')\n",
        "\n",
        "    print(f'{x} square is {x * x}')\n",
        "    print(f'{x} square root is {math.sqrt(x)}')"
      ],
      "metadata": {
        "id": "8UBucPj_CnVb"
      },
      "execution_count": null,
      "outputs": []
    },
    {
      "cell_type": "code",
      "source": [
        "'''\n",
        "BaseException\n",
        " +-- SystemExit\n",
        " +-- KeyboardInterrupt\n",
        " +-- GeneratorExit\n",
        " +-- Exception\n",
        "      +-- StopIteration\n",
        "      +-- StopAsyncIteration\n",
        "      +-- ArithmeticError\n",
        "      |    +-- FloatingPointError\n",
        "      |    +-- OverflowError\n",
        "      |    +-- ZeroDivisionError\n",
        "      +-- AssertionError\n",
        "      +-- AttributeError\n",
        "      +-- BufferError\n",
        "      +-- EOFError\n",
        "      +-- ImportError\n",
        "      |    +-- ModuleNotFoundError\n",
        "      +-- LookupError\n",
        "      |    +-- IndexError\n",
        "      |    +-- KeyError\n",
        "      +-- MemoryError\n",
        "      +-- NameError\n",
        "      |    +-- UnboundLocalError\n",
        "      +-- OSError\n",
        "      |    +-- BlockingIOError\n",
        "      |    +-- ChildProcessError\n",
        "      |    +-- ConnectionError\n",
        "      |    |    +-- BrokenPipeError\n",
        "      |    |    +-- ConnectionAbortedError\n",
        "      |    |    +-- ConnectionRefusedError\n",
        "      |    |    +-- ConnectionResetError\n",
        "      |    +-- FileExistsError\n",
        "      |    +-- FileNotFoundError\n",
        "      |    +-- InterruptedError\n",
        "      |    +-- IsADirectoryError\n",
        "      |    +-- NotADirectoryError\n",
        "      |    +-- PermissionError\n",
        "      |    +-- ProcessLookupError\n",
        "      |    +-- TimeoutError\n",
        "      +-- ReferenceError\n",
        "      +-- RuntimeError\n",
        "      |    +-- NotImplementedError\n",
        "      |    +-- RecursionError\n",
        "      +-- SyntaxError\n",
        "      |    +-- IndentationError\n",
        "      |         +-- TabError\n",
        "      +-- SystemError\n",
        "      +-- TypeError\n",
        "      +-- ValueError\n",
        "      |    +-- UnicodeError\n",
        "      |         +-- UnicodeDecodeError\n",
        "      |         +-- UnicodeEncodeError\n",
        "      |         +-- UnicodeTranslateError\n",
        "      +-- Warning\n",
        "           +-- DeprecationWarning\n",
        "           +-- PendingDeprecationWarning\n",
        "           +-- RuntimeWarning\n",
        "           +-- SyntaxWarning\n",
        "           +-- UserWarning\n",
        "           +-- FutureWarning\n",
        "           +-- ImportWarning\n",
        "           +-- UnicodeWarning\n",
        "           +-- BytesWarning\n",
        "           +-- EncodingWarning\n",
        "           +-- ResourceWarning\n",
        "\n",
        "\n",
        "'''"
      ],
      "metadata": {
        "id": "CVl5ph3gn78p"
      },
      "execution_count": null,
      "outputs": []
    },
    {
      "cell_type": "code",
      "source": [
        "try:\n",
        "   # do something\n",
        "   pass\n",
        "\n",
        "except ValueError:\n",
        "   # handle ValueError exception\n",
        "   pass\n",
        "\n",
        "except (TypeError, ZeroDivisionError):\n",
        "   # handle multiple exceptions\n",
        "   # TypeError and ZeroDivisionError\n",
        "   pass\n",
        "\n",
        "except:\n",
        "   # handle all other exceptions\n",
        "   pass"
      ],
      "metadata": {
        "id": "XRx22-zzo4mo"
      },
      "execution_count": null,
      "outputs": []
    },
    {
      "cell_type": "code",
      "source": [
        ""
      ],
      "metadata": {
        "id": "OruTjn49p2Fv"
      },
      "execution_count": null,
      "outputs": []
    },
    {
      "cell_type": "code",
      "source": [
        "# program to print the reciprocal of even numbers\n",
        "\n",
        "try:\n",
        "    num = int(input(\"Enter a number: \"))\n",
        "    assert num % 2 == 0\n",
        "except:\n",
        "    print(\"Not an even number!\")\n",
        "else:\n",
        "    reciprocal = 1/num\n",
        "    print(reciprocal)"
      ],
      "metadata": {
        "id": "cDNjeEtmp2JH"
      },
      "execution_count": null,
      "outputs": []
    },
    {
      "cell_type": "code",
      "source": [
        "try:\n",
        "   f = open(\"test.txt\",encoding = 'utf-8')\n",
        "   # perform file operations\n",
        "finally:\n",
        "   f.close()"
      ],
      "metadata": {
        "id": "WpHMd7ZNp2c0"
      },
      "execution_count": null,
      "outputs": []
    },
    {
      "cell_type": "code",
      "source": [
        ""
      ],
      "metadata": {
        "id": "DmOdY2cdp2f0"
      },
      "execution_count": null,
      "outputs": []
    }
  ]
}