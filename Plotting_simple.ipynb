{
  "nbformat": 4,
  "nbformat_minor": 0,
  "metadata": {
    "colab": {
      "name": "Plotting_simple.ipynb",
      "provenance": [],
      "include_colab_link": true
    },
    "kernelspec": {
      "name": "python3",
      "display_name": "Python 3"
    },
    "language_info": {
      "name": "python"
    }
  },
  "cells": [
    {
      "cell_type": "markdown",
      "metadata": {
        "id": "view-in-github",
        "colab_type": "text"
      },
      "source": [
        "<a href=\"https://colab.research.google.com/github/baburamchoudhary/baburamchoudhary/blob/main/Plotting_simple.ipynb\" target=\"_parent\"><img src=\"https://colab.research.google.com/assets/colab-badge.svg\" alt=\"Open In Colab\"/></a>"
      ]
    },
    {
      "cell_type": "code",
      "execution_count": null,
      "metadata": {
        "colab": {
          "base_uri": "https://localhost:8080/",
          "height": 320
        },
        "id": "8TQI_Rzvw5mz",
        "outputId": "3c9e118e-a3b4-415d-dcaf-600d98794943"
      },
      "outputs": [
        {
          "output_type": "stream",
          "name": "stdout",
          "text": [
            "(10,)\n",
            "[0.09046536 0.22611184 0.27882785 0.0656354  0.66797822 0.60506496\n",
            " 0.90501272 0.81794835 0.96316634 0.27916631]\n"
          ]
        },
        {
          "output_type": "display_data",
          "data": {
            "image/png": "[encoded data removed]",
            "text/plain": [
              "<Figure size 432x288 with 1 Axes>"
            ]
          },
          "metadata": {
            "needs_background": "light"
          }
        }
      ],
      "source": [
        "## matplotlib (library for ploting vector data)\n",
        "## pyplot\n",
        "\n",
        "from matplotlib import pyplot as plt\n",
        "import numpy as np\n",
        "\n",
        "x = np.random.rand(10) # 10 uninform values\n",
        "#y = np.random.rand(10)\n",
        "print(x.shape)\n",
        "print(x)\n",
        "\n",
        "plt.plot(x)\n",
        "plt.show()\n",
        "\n"
      ]
    },
    {
      "cell_type": "code",
      "source": [
        "from matplotlib import pyplot as plt\n",
        "import numpy as np\n",
        "\n",
        "x = np.random.rand(10) # 10 uninform values\n",
        "y = np.random.rand(10)\n",
        "\n",
        "c = np.random.rand(10,2)\n",
        "print(x.shape)\n",
        "print(y.shape)\n",
        "print(x,y)\n",
        "\n",
        "#plt.plot(x,y)\n",
        "plt.scatter(x,y) # legend data1\n",
        "plt.scatter(c[:,0],c[:,1]) #legen data2\n",
        "plt.title(\"Test 1 plot\")\n",
        "plt.xlabel(\"price\")\n",
        "plt.ylabel(\"Quantity\")\n",
        "#plt.xlim([0, 1])\n",
        "#plt.ylim([0, 1])\n",
        "plt.legend([\"data1\",\"data2\"]) # in the order of their plots the legend is defined\n",
        "#plt.show()\n",
        "\n",
        "#a =figure()\n",
        "plt.hist(x)\n",
        "\n",
        "plt.show()\n",
        "\n"
      ],
      "metadata": {
        "colab": {
          "base_uri": "https://localhost:8080/",
          "height": 401
        },
        "id": "6B5yiGj12GGQ",
        "outputId": "c163f07e-b8ef-40d4-da60-04b8c9be5b78"
      },
      "execution_count": null,
      "outputs": [
        {
          "output_type": "stream",
          "name": "stdout",
          "text": [
            "(10,)\n",
            "(10,)\n",
            "[0.07168031 0.62185259 0.68719088 0.73078177 0.09651568 0.13973378\n",
            " 0.41184067 0.84141599 0.52318796 0.23175114] [0.97860328 0.6681741  0.87522933 0.71577112 0.7029928  0.20650563\n",
            " 0.14311503 0.47203098 0.68366453 0.60445032]\n"
          ]
        },
        {
          "output_type": "display_data",
          "data": {
            "image/png": "[encoded data removed]",
            "text/plain": [
              "<Figure size 432x288 with 1 Axes>"
            ]
          },
          "metadata": {
            "needs_background": "light"
          }
        }
      ]
    },
    {
      "cell_type": "code",
      "source": [
        "parentDirectory #package\n",
        "--child1 #subpackage\n",
        "----gdchild1.py #module # functions, variable, datastructures, constants, classes\n",
        "--child2.py # classes and objects\n",
        "--child3\n",
        "----grandchild1.py # PI = 3.14...............\n",
        "----grnadchild2.py\n",
        "\n",
        "#let you have defined some inplace function reverse(strings) subdirectory child3 under\n",
        "#module grandchild1.py\n",
        "\n",
        "import parentDirectory.child3.grandchild1 as gd1\n",
        "gd1.reverse(\"aabbbdfsfsdf\")\n",
        "print(gd1.PI)\n"
      ],
      "metadata": {
        "id": "4Bljl80Gxlma"
      },
      "execution_count": null,
      "outputs": []
    },
    {
      "cell_type": "code",
      "source": [
        "#np.random.randn(3, 3)\n",
        "#np.random.normal(size=(10,2))\n",
        "\n",
        "\n",
        "from matplotlib import pyplot as plt\n",
        "import numpy as np\n",
        "\n",
        "x = np.random.normal(size=(10000,)) # 10 uninform values\n",
        "y = np.random.normal(size=(10000,))\n",
        "\n",
        "c = np.random.normal(size=(10000,2))\n",
        "print(x.shape)\n",
        "print(y.shape)\n",
        "#print(x,y)\n",
        "\n",
        "#print(x)\n",
        "#plt.plot(x,y)\n",
        "plt.scatter(x,y) # legend data1\n",
        "plt.scatter(c[:,0],c[:,1]) #legen data2\n",
        "plt.title(\"Test 1 plot\")\n",
        "plt.xlabel(\"price\")\n",
        "plt.ylabel(\"Quantity\")\n",
        "#plt.xlim([-5, 5])\n",
        "#plt.ylim([-10, 10])\n",
        "plt.legend([\"data1\",\"data2\"]) # in the order of their plots the legend is defined\n",
        "#plt.show()\n",
        "\n",
        "\n",
        "#a =figure()\n",
        "plt.hist(x)\n",
        "\n",
        "plt.show()\n"
      ],
      "metadata": {
        "colab": {
          "base_uri": "https://localhost:8080/",
          "height": 329
        },
        "id": "IzwGW5yB6DjK",
        "outputId": "ef9a6cb4-5837-4bae-89ad-304a9f55e562"
      },
      "execution_count": null,
      "outputs": [
        {
          "output_type": "stream",
          "name": "stdout",
          "text": [
            "(10000,)\n",
            "(10000,)\n"
          ]
        },
        {
          "output_type": "display_data",
          "data": {
            "image/png": "[encoded data removed]",
            "text/plain": [
              "<Figure size 432x288 with 1 Axes>"
            ]
          },
          "metadata": {
            "needs_background": "light"
          }
        }
      ]
    },
    {
      "cell_type": "code",
      "source": [
        "y = [10, 20, 30]\n",
        "plt.bar(y, height=0.5)\n",
        "plt.show()"
      ],
      "metadata": {
        "colab": {
          "base_uri": "https://localhost:8080/",
          "height": 265
        },
        "id": "wwOaeALk6TGg",
        "outputId": "12444fba-d82b-4796-8197-0bcb872fe275"
      },
      "execution_count": null,
      "outputs": [
        {
          "output_type": "display_data",
          "data": {
            "image/png": "[encoded data removed]",
            "text/plain": [
              "<Figure size 432x288 with 1 Axes>"
            ]
          },
          "metadata": {
            "needs_background": "light"
          }
        }
      ]
    },
    {
      "cell_type": "code",
      "source": [
        "y = [10, 20, 30]\n",
        "plt.pie(y, colors=[\"r\", \"y\", \"b\"])\n",
        "plt.show()\n",
        "\n"
      ],
      "metadata": {
        "colab": {
          "base_uri": "https://localhost:8080/",
          "height": 248
        },
        "id": "EZ7wbV0Q78-0",
        "outputId": "9a453181-3df7-4b87-d448-016200e0e697"
      },
      "execution_count": null,
      "outputs": [
        {
          "output_type": "display_data",
          "data": {
            "image/png": "[encoded data removed]",
            "text/plain": [
              "<Figure size 432x288 with 1 Axes>"
            ]
          },
          "metadata": {}
        }
      ]
    },
    {
      "cell_type": "code",
      "source": [
        "#plotting subplots\n",
        "#reading assignment (usage of subplots)\n",
        "\n",
        "\n"
      ],
      "metadata": {
        "id": "hHqpBx_O8bAB"
      },
      "execution_count": null,
      "outputs": []
    },
    {
      "cell_type": "code",
      "source": [
        "a, b = 1, 0\n",
        "print(a/b)"
      ],
      "metadata": {
        "colab": {
          "base_uri": "https://localhost:8080/",
          "height": 183
        },
        "id": "AozUc9jt9dCu",
        "outputId": "86b2d6dc-2ab5-4e29-8716-ea83cdf60240"
      },
      "execution_count": null,
      "outputs": [
        {
          "output_type": "error",
          "ename": "ZeroDivisionError",
          "evalue": "ignored",
          "traceback": [
            "\u001b[0;31m---------------------------------------------------------------------------\u001b[0m",
            "\u001b[0;31mZeroDivisionError\u001b[0m                         Traceback (most recent call last)",
            "\u001b[0;32m<ipython-input-45-4eb9f3ebbff2>\u001b[0m in \u001b[0;36m<module>\u001b[0;34m()\u001b[0m\n\u001b[1;32m      1\u001b[0m \u001b[0ma\u001b[0m\u001b[0;34m,\u001b[0m \u001b[0mb\u001b[0m \u001b[0;34m=\u001b[0m \u001b[0;36m1\u001b[0m\u001b[0;34m,\u001b[0m \u001b[0;36m0\u001b[0m\u001b[0;34m\u001b[0m\u001b[0;34m\u001b[0m\u001b[0m\n\u001b[0;32m----> 2\u001b[0;31m \u001b[0mprint\u001b[0m\u001b[0;34m(\u001b[0m\u001b[0ma\u001b[0m\u001b[0;34m/\u001b[0m\u001b[0mb\u001b[0m\u001b[0;34m)\u001b[0m\u001b[0;34m\u001b[0m\u001b[0;34m\u001b[0m\u001b[0m\n\u001b[0m",
            "\u001b[0;31mZeroDivisionError\u001b[0m: division by zero"
          ]
        }
      ]
    },
    {
      "cell_type": "code",
      "source": [
        ""
      ],
      "metadata": {
        "id": "UgS7MdjM9gnL"
      },
      "execution_count": null,
      "outputs": []
    }
  ]
}